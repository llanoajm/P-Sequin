{
 "cells": [
  {
   "cell_type": "code",
   "execution_count": 27,
   "metadata": {},
   "outputs": [],
   "source": [
    "import random\n",
    "import string\n",
    "import multiprocessing\n",
    "# Parameters\n",
    "POPULATION_SIZE = 100\n",
    "MUTATION_RATE = 0.01\n",
    "CROSSOVER_RATE = 0.7\n",
    "MAX_GENERATIONS = 1000\n",
    "STRING_LENGTH = 10\n",
    "CHARSET = 'ACGT'"
   ]
  },
  {
   "cell_type": "code",
   "execution_count": 28,
   "metadata": {},
   "outputs": [],
   "source": [
    "def random_string(length):\n",
    "    return ''.join(random.choice(CHARSET) for _ in range(length))"
   ]
  },
  {
   "cell_type": "code",
   "execution_count": 29,
   "metadata": {},
   "outputs": [],
   "source": [
    "def longest_common_substring(s1, s2):\n",
    "    m = len(s1)\n",
    "    n = len(s2)\n",
    "    counter = [[0] * (n + 1) for x in range(m + 1)]\n",
    "    longest = 0\n",
    "    lcs_set = set()\n",
    "\n",
    "    for i in range(m):\n",
    "        for j in range(n):\n",
    "            if s1[i] == s2[j]:\n",
    "                c = counter[i][j] + 1\n",
    "                counter[i+1][j+1] = c\n",
    "                if c > longest:\n",
    "                    lcs_set = set()\n",
    "                    longest = c\n",
    "                    lcs_set.add(s1[i-c+1:i+1])\n",
    "                elif c == longest:\n",
    "                    lcs_set.add(s1[i-c+1:i+1])\n",
    "\n",
    "    return longest"
   ]
  },
  {
   "cell_type": "code",
   "execution_count": 30,
   "metadata": {},
   "outputs": [],
   "source": [
    "def fitness(individual, population):\n",
    "    return sum(longest_common_substring(individual, other) for other in population)"
   ]
  },
  {
   "cell_type": "code",
   "execution_count": 31,
   "metadata": {},
   "outputs": [],
   "source": [
    "def calculate_fitness_for_individual(individual, population):\n",
    "    return fitness(individual, population)"
   ]
  },
  {
   "cell_type": "code",
   "execution_count": 32,
   "metadata": {},
   "outputs": [],
   "source": [
    "def mutate(individual):\n",
    "    index = random.randint(0, len(individual) - 1)\n",
    "    return individual[:index] + random.choice(CHARSET) + individual[index+1:]"
   ]
  },
  {
   "cell_type": "code",
   "execution_count": 33,
   "metadata": {},
   "outputs": [],
   "source": [
    "def crossover(parent1, parent2):\n",
    "    index = random.randint(0, len(parent1) - 1)\n",
    "    child1 = parent1[:index] + parent2[index:]\n",
    "    child2 = parent2[:index] + parent1[index:]\n",
    "    return child1, child2\n"
   ]
  },
  {
   "cell_type": "code",
   "execution_count": 34,
   "metadata": {},
   "outputs": [],
   "source": [
    "def genetic_algorithm(n_best):\n",
    "    # Create initial population with desired string lengths\n",
    "    population = [random_string(TARGET_LENGTHS[i % len(TARGET_LENGTHS)]) for i in range(POPULATION_SIZE)]\n",
    "    for generation in range(MAX_GENERATIONS):\n",
    "        population.sort(key=lambda individual: fitness(individual, population))\n",
    "        \n",
    "        # If the fitness of the best individual is 0, stop\n",
    "        if fitness(population[0], population) == 0:\n",
    "            break\n",
    "\n",
    "        next_population = population[:n_best]  # elitism: retain the n best individuals\n",
    "        while len(next_population) < POPULATION_SIZE:\n",
    "            if random.random() < CROSSOVER_RATE:\n",
    "                parent1 = random.choice(population[:50])\n",
    "                parent2 = random.choice(population[:50])\n",
    "                child1, child2 = crossover(parent1, parent2)\n",
    "                next_population.extend([child1, child2])\n",
    "            else:\n",
    "                # Create a new string with the desired length\n",
    "                next_population.append(random_string(TARGET_LENGTHS[len(next_population) % len(TARGET_LENGTHS)]))\n",
    "        \n",
    "        # Apply mutation\n",
    "        for i in range(len(next_population)):\n",
    "            if random.random() < MUTATION_RATE:\n",
    "                next_population[i] = mutate(next_population[i])\n",
    "        \n",
    "        population = next_population\n",
    "\n",
    "    population.sort(key=lambda individual: fitness(individual, population))\n",
    "    return population[:n_best]"
   ]
  },
  {
   "cell_type": "code",
   "execution_count": 35,
   "metadata": {},
   "outputs": [
    {
     "name": "stdout",
     "output_type": "stream",
     "text": [
      "['TGTTCGT', 'CTG', 'TAACG', 'ATGCG', 'GCCAG']\n"
     ]
    }
   ],
   "source": [
    "# Test\n",
    "TARGET_LENGTHS = [7, 3, 5, 5, 5]\n",
    "best_strings = genetic_algorithm(5)\n",
    "print(best_strings)"
   ]
  }
 ],
 "metadata": {
  "kernelspec": {
   "display_name": "dna",
   "language": "python",
   "name": "python3"
  },
  "language_info": {
   "codemirror_mode": {
    "name": "ipython",
    "version": 3
   },
   "file_extension": ".py",
   "mimetype": "text/x-python",
   "name": "python",
   "nbconvert_exporter": "python",
   "pygments_lexer": "ipython3",
   "version": "3.10.4"
  },
  "orig_nbformat": 4
 },
 "nbformat": 4,
 "nbformat_minor": 2
}
