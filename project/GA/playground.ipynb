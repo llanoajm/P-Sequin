{
 "cells": [
  {
   "cell_type": "code",
   "execution_count": 1,
   "metadata": {},
   "outputs": [],
   "source": [
    "import random\n",
    "from utils import *\n",
    "from deap import base, creator, tools"
   ]
  },
  {
   "cell_type": "code",
   "execution_count": 2,
   "metadata": {},
   "outputs": [],
   "source": [
    "creator.create(\"FitnessMulti\", base.Fitness, weights=(-1.0, -1.0, -1.0, -1.0))\n",
    "creator.create(\"Individual\", list, fitness=creator.FitnessMulti)\n",
    "toolbox = base.Toolbox()"
   ]
  },
  {
   "cell_type": "code",
   "execution_count": 3,
   "metadata": {},
   "outputs": [],
   "source": [
    "def evaluate(individual):\n",
    "    strand = ''.join(individual)\n",
    "    stability = float(compute_stability(strand))\n",
    "    secondary_structures = check_secondary_structures(strand)\n",
    "    lcs_value = 0 # lcs not yet created. TODO: establish graph relationships\n",
    "    cross_hybridization = 0 # c_h method not yet created. TODO: establish graph relationships\n",
    "    return lcs_value, stability, secondary_structures, cross_hybridization\n",
    "\n",
    "toolbox.register(\"evaluate\", evaluate)"
   ]
  },
  {
   "cell_type": "code",
   "execution_count": 4,
   "metadata": {},
   "outputs": [],
   "source": [
    "desired_lengths_quantities = { # take actual input from flask.\n",
    "    10: 25,\n",
    "    15: 30,\n",
    "    20: 20,\n",
    "    25: 25\n",
    "}\n",
    "population = []\n",
    "for length, quantity in desired_lengths_quantities.items():\n",
    "    toolbox.register(\"individual_{}\".format(length), tools.initIterate, creator.Individual, lambda l=length: initialize_sequence(l))\n",
    "    population.extend(toolbox.__getattribute__(\"individual_{}\".format(length))() for _ in range(quantity))"
   ]
  },
  {
   "cell_type": "code",
   "execution_count": 5,
   "metadata": {},
   "outputs": [],
   "source": [
    "def variable_length_crossover(parent1, parent2):\n",
    "    if len(parent1) < len(parent2):\n",
    "        shorter, longer = parent1, parent2\n",
    "    else:\n",
    "        shorter, longer = parent2, parent1\n",
    "    # Determine the crossover point within the range of the shorter sequence.\n",
    "    crossover_point = random.randint(0, len(shorter) - 1)\n",
    "    # Create offspring\n",
    "    offspring1 = longer[:len(longer) - len(shorter) + crossover_point] + shorter[crossover_point:]\n",
    "    offspring2 = shorter[:crossover_point] + longer[len(longer) - len(shorter) + crossover_point:len(longer) - len(shorter) + len(shorter)]\n",
    "    # Return offspring in the order of input parents\n",
    "    if len(parent1) < len(parent2):\n",
    "        return offspring2, offspring1\n",
    "    else:\n",
    "        return offspring1, offspring2\n",
    "    \n",
    "toolbox.register(\"mate\", variable_length_crossover)"
   ]
  },
  {
   "cell_type": "code",
   "execution_count": 6,
   "metadata": {},
   "outputs": [],
   "source": [
    "\n",
    "def mutate_sequence(individual):\n",
    "    mutation_point = random.randint(0, len(individual) - 1)\n",
    "    available_bases = set([\"A\", \"T\", \"C\", \"G\"]) - {individual[mutation_point]}\n",
    "    individual[mutation_point] = random.choice(list(available_bases))\n",
    "    return individual,\n",
    "\n",
    "toolbox.register(\"mutate\", mutate_sequence)\n",
    "toolbox.register(\"select\", tools.selNSGA2)\n",
    "\n",
    "\n",
    "\n"
   ]
  },
  {
   "cell_type": "code",
   "execution_count": 7,
   "metadata": {},
   "outputs": [],
   "source": [
    "# Evaluate the entire initial population\n",
    "fitnesses = list(map(toolbox.evaluate, population))\n",
    "for ind, fit in zip(population, fitnesses):\n",
    "    ind.fitness.values = fit\n"
   ]
  },
  {
   "cell_type": "code",
   "execution_count": 13,
   "metadata": {},
   "outputs": [
    {
     "name": "stdout",
     "output_type": "stream",
     "text": [
      "gen\tnevals\n",
      "0  \t100   \n",
      "1  \t100   \n",
      "2  \t100   \n"
     ]
    }
   ],
   "source": [
    "n_generations = 5  # You can adjust this value as per your requirements\n",
    "for gen in range(n_generations):\n",
    "    # Select the next generation individuals\n",
    "    offspring = toolbox.select(population, len(population))\n",
    "    \n",
    "    # Clone the selected individuals\n",
    "    offspring = list(map(toolbox.clone, offspring))\n",
    "\n",
    "    # Apply crossover and mutation on the offspring\n",
    "    for child1, child2 in zip(offspring[::2], offspring[1::2]):\n",
    "        if random.random() < 0.7:  # 70% crossover probability; you can adjust this value\n",
    "            toolbox.mate(child1, child2)\n",
    "            del child1.fitness.values\n",
    "            del child2.fitness.values\n",
    "\n",
    "    for mutant in offspring:\n",
    "        if random.random() < 0.2:  # 20% mutation probability; you can adjust this value\n",
    "            toolbox.mutate(mutant)\n",
    "            del mutant.fitness.values\n",
    "\n",
    "    # Evaluate the offspring\n",
    "    fitnesses = list(map(toolbox.evaluate, offspring))\n",
    "    for ind, fit in zip(offspring, fitnesses):\n",
    "        ind.fitness.values = fit\n",
    "\n",
    "    # Replace the old population with the offspring\n",
    "    population[:] = offspring"
   ]
  },
  {
   "cell_type": "code",
   "execution_count": 10,
   "metadata": {},
   "outputs": [
    {
     "name": "stdout",
     "output_type": "stream",
     "text": [
      "TCGGTGCTCACATTAGAGCACGGGG (0.0, -59161.94201, -6.398709297180176, 0.0)\n",
      "TCCAACTCGCGCTGGCGCGTCACAG (0.0, -9193.68347, -5.48976993560791, 0.0)\n",
      "AAGACCAGGAAAATCCTGCGGGGAG (0.0, -1495.545132, -3.329612970352173, 0.0)\n",
      "TTCTGGCTACGGACCTTGCAAAGGG (0.0, -451.4961369, -3.333465814590454, 0.0)\n",
      "TGCTCGTTACCCGGTCGATCGACCT (0.0, -400.5372283, -3.4408445358276367, 0.0)\n",
      "GCATATGATGCGCTATCCGACTCCG (0.0, -163.5892956, -1.7635512351989746, 0.0)\n",
      "TCCCGACACTATTACAAGTGAGATC (0.0, -157.5697607, -2.892761707305908, 0.0)\n",
      "TAACCCGTAGTTCAAGTAATTCTTC (0.0, -147.914882, -2.033112049102783, 0.0)\n",
      "AGGTGAACACCCCTGGTACT (0.0, -104.3906411, -2.1645398139953613, 0.0)\n",
      "CTCTTTCCGACAATATCGAGGACGT (0.0, -103.8415258, -2.5554447174072266, 0.0)\n"
     ]
    }
   ],
   "source": [
    "best_individuals = tools.selBest(population, 10)  # Extracts the top individual; you can adjust to get more\n",
    "for bi in best_individuals:\n",
    "    print(''.join(bi), bi.fitness.values)\n"
   ]
  }
 ],
 "metadata": {
  "kernelspec": {
   "display_name": "Python 3",
   "language": "python",
   "name": "python3"
  },
  "language_info": {
   "codemirror_mode": {
    "name": "ipython",
    "version": 3
   },
   "file_extension": ".py",
   "mimetype": "text/x-python",
   "name": "python",
   "nbconvert_exporter": "python",
   "pygments_lexer": "ipython3",
   "version": "3.9.1"
  },
  "orig_nbformat": 4
 },
 "nbformat": 4,
 "nbformat_minor": 2
}
