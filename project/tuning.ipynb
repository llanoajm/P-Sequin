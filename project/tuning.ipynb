{
 "cells": [
  {
   "cell_type": "code",
   "execution_count": 4,
   "metadata": {},
   "outputs": [],
   "source": [
    "import random\n",
    "from deap import base, creator, tools\n",
    "from metrics import *\n",
    "from utils import *\n",
    "import numpy as np\n",
    "import matplotlib.pyplot as plt"
   ]
  },
  {
   "cell_type": "code",
   "execution_count": null,
   "metadata": {},
   "outputs": [],
   "source": [
    "creator.create(\"FitnessMulti\", base.Fitness, weights=(-1.0, -1.0, -1.0, -1.0, -1.0, -1.0))\n",
    "creator.create(\"Individual\", list, fitness=creator.FitnessMulti, id=str) \n",
    "toolbox = base.Toolbox()"
   ]
  },
  {
   "cell_type": "code",
   "execution_count": 6,
   "metadata": {},
   "outputs": [],
   "source": [
    "def evaluate(self, domain_individual):\n",
    "    # Get the current sequence of the domain\n",
    "    domain_sequence = ''.join(domain_individual)\n",
    "\n",
    "    # Retrieve the IDs of the strands where this domain appears\n",
    "    strand_ids = self.domain_appearances[domain_individual.id]\n",
    "\n",
    "    # For each strand ID, reconstruct the strand using the current sequences of its constituent domains\n",
    "    total_scores = [0, 0, 0, 0, 0, 0]\n",
    "    for strand_id in strand_ids:\n",
    "        strand_structure = self.strand_structures[strand_id]\n",
    "        reconstructed_strand = ''.join([self.initial_population[dom_name] for dom_name in strand_structure.split()])\n",
    "        \n",
    "        # Evaluate the performance of the reconstructed strand\n",
    "        stability = compute_stability(reconstructed_strand)\n",
    "        secondary_structures = check_secondary_structures(reconstructed_strand)\n",
    "        lcs_value = 0  # Placeholder\n",
    "        cross_hybridization = 0  # Placeholder\n",
    "        palindrome_score = check_if_palindrome(reconstructed_strand)\n",
    "        gc_content_score = check_gc_content(reconstructed_strand)\n",
    "        \n",
    "        # Combine the scores from all strands for an overall evaluation of the domain\n",
    "        scores = [lcs_value, stability, secondary_structures, cross_hybridization, palindrome_score, gc_content_score]\n",
    "        total_scores = [sum(x) for x in zip(total_scores, scores)]\n",
    "\n",
    "    # Average the scores over all strands\n",
    "    average_scores = [score / len(strand_ids) for score in total_scores]\n",
    "    return tuple(average_scores)\n"
   ]
  },
  {
   "cell_type": "code",
   "execution_count": 7,
   "metadata": {},
   "outputs": [],
   "source": [
    "def variable_length_crossover(self, parent1, parent2):\n",
    "        if len(parent1) < len(parent2):\n",
    "            shorter, longer = parent1, parent2\n",
    "        else:\n",
    "            shorter, longer = parent2, parent1\n",
    "        \n",
    "        crossover_point = random.randint(0, len(shorter) - 1)\n",
    "        offspring1_data = longer[:len(longer) - len(shorter) + crossover_point] + shorter[crossover_point:]\n",
    "        offspring2_data = shorter[:crossover_point] + longer[len(longer) - len(shorter) + crossover_point:len(longer) - len(shorter) + len(shorter)]\n",
    "        \n",
    "        offspring1 = creator.Individual(offspring1_data)\n",
    "        offspring2 = creator.Individual(offspring2_data)\n",
    "        \n",
    "        if len(offspring1) == len(parent1):\n",
    "            offspring1.id = parent1.id\n",
    "            offspring2.id = parent2.id\n",
    "        else:\n",
    "            offspring1.id = parent2.id\n",
    "            offspring2.id = parent1.id\n",
    "        \n",
    "        return offspring1, offspring2"
   ]
  },
  {
   "cell_type": "code",
   "execution_count": 8,
   "metadata": {},
   "outputs": [],
   "source": [
    "def mutate_sequence(self, individual):\n",
    "        mutation_point = random.randint(0, len(individual) - 1)\n",
    "        available_bases = set([\"A\", \"T\", \"C\", \"G\"]) - {individual[mutation_point]}\n",
    "        individual[mutation_point] = random.choice(list(available_bases))\n",
    "        return individual,"
   ]
  },
  {
   "cell_type": "code",
   "execution_count": 9,
   "metadata": {},
   "outputs": [],
   "source": [
    "def run(self, generations):\n",
    "    # Define the initial population\n",
    "    population = [creator.Individual(list(sequence)) for domain_name, sequence in self.initial_population.items()]\n",
    "    for domain_name, individual in zip(self.initial_population.keys(), population):\n",
    "        individual.id = domain_name\n",
    "\n",
    "    # Extract all domains from the population that appear in strands\n",
    "    relevant_population = [individual for individual in population if self.domain_appearances[individual.id]]\n",
    "\n",
    "    # Evaluate the relevant population\n",
    "    fitnesses = list(map(self.toolbox.evaluate, relevant_population))\n",
    "    for ind, fit in zip(relevant_population, fitnesses):\n",
    "        ind.fitness.values = fit\n",
    "\n",
    "    # Run the genetic algorithm using the filtered population\n",
    "    for gen in range(generations):\n",
    "        offspring = self.toolbox.select(relevant_population, len(relevant_population))\n",
    "        offspring = list(map(self.toolbox.clone, offspring))\n",
    "\n",
    "        for child1, child2 in zip(offspring[::2], offspring[1::2]):\n",
    "            if random.random() < 0.7:\n",
    "                self.toolbox.mate(child1, child2)\n",
    "                del child1.fitness.values\n",
    "                del child2.fitness.values\n",
    "\n",
    "        for mutant in offspring:\n",
    "            if random.random() < 0.2:\n",
    "                self.toolbox.mutate(mutant)\n",
    "                del mutant.fitness.values\n",
    "\n",
    "        fitnesses = list(map(self.toolbox.evaluate, offspring))\n",
    "        for ind, fit in zip(offspring, fitnesses):\n",
    "            ind.fitness.values = fit\n",
    "\n",
    "        relevant_population[:] = offspring\n",
    "\n",
    "    for individual in relevant_population:\n",
    "        self.initial_population[individual.id] = ''.join(individual)\n",
    "        print(individual.id, \" = \", individual)\n",
    "\n",
    "    # Reconstruct the final strands\n",
    "    final_strands = []\n",
    "    for strand_structure in self.strand_structures:\n",
    "        strand = ''.join([self.initial_population[dom_name] for dom_name in strand_structure.split()])\n",
    "        final_strands.append(strand)\n",
    "\n",
    "    # Extract the evolved domain sequences\n",
    "    evolved_domain_sequences = [{\"name\": domain_name, \"sequence\": sequence} for domain_name, sequence in self.initial_population.items()]\n",
    "\n",
    "    return final_strands, evolved_domain_sequences\n"
   ]
  }
 ],
 "metadata": {
  "kernelspec": {
   "display_name": "Python 3",
   "language": "python",
   "name": "python3"
  },
  "language_info": {
   "codemirror_mode": {
    "name": "ipython",
    "version": 3
   },
   "file_extension": ".py",
   "mimetype": "text/x-python",
   "name": "python",
   "nbconvert_exporter": "python",
   "pygments_lexer": "ipython3",
   "version": "3.9.1"
  },
  "orig_nbformat": 4
 },
 "nbformat": 4,
 "nbformat_minor": 2
}
