{
 "cells": [
  {
   "cell_type": "code",
   "execution_count": 59,
   "metadata": {},
   "outputs": [],
   "source": [
    "import random\n",
    "from deap import base, creator, tools\n",
    "from metrics import *\n",
    "from utils import *\n",
    "import numpy as np\n",
    "import matplotlib.pyplot as plt"
   ]
  },
  {
   "cell_type": "code",
   "execution_count": 60,
   "metadata": {},
   "outputs": [],
   "source": [
    "creator.create(\"FitnessMulti\", base.Fitness, weights=(-1.0, -1.0, -1.0, -1.0, -1.0, -1.0))\n",
    "creator.create(\"Individual\", list, fitness=creator.FitnessMulti, id=str) \n",
    "toolbox = base.Toolbox()"
   ]
  },
  {
   "cell_type": "code",
   "execution_count": 61,
   "metadata": {},
   "outputs": [],
   "source": [
    "# Dummy Data\n",
    "new_domain_names = ['D1', 'D2', 'D3']\n",
    "\n",
    "initial_population = {\n",
    "    'D1': 'TTTT',\n",
    "    'D2': 'TTTT',\n",
    "    'D3': 'TTTT'\n",
    "}\n",
    "\n",
    "domain_appearances = {\n",
    "    'D1': [0, 1],\n",
    "    'D2': [1],\n",
    "    'D3': [0, 2]\n",
    "}\n",
    "\n",
    "strand_structures = [\n",
    "    'D1 D3',\n",
    "    'D1 D2',\n",
    "    'D3'\n",
    "]"
   ]
  },
  {
   "cell_type": "code",
   "execution_count": 62,
   "metadata": {},
   "outputs": [],
   "source": [
    "def evaluate(domain_individual):\n",
    "    # Get the current sequence of the domain\n",
    "    domain_sequence = ''.join(domain_individual)\n",
    "\n",
    "    # Retrieve the IDs of the strands where this domain appears\n",
    "    strand_ids = domain_appearances[domain_individual.id]\n",
    "\n",
    "    # For each strand ID, reconstruct the strand using the current sequences of its constituent domains\n",
    "    total_scores = [0, 0, 0, 0, 0, 0]\n",
    "    for strand_id in strand_ids:\n",
    "        strand_structure = strand_structures[strand_id]\n",
    "        reconstructed_strand = ''.join([initial_population[dom_name] for dom_name in strand_structure.split()])\n",
    "        \n",
    "        # Evaluate the performance of the reconstructed strand\n",
    "        stability = compute_stability(reconstructed_strand)\n",
    "        secondary_structures = check_secondary_structures(reconstructed_strand)\n",
    "        lcs_value = 0  # Placeholder\n",
    "        cross_hybridization = 0  # Placeholder\n",
    "        palindrome_score = check_if_palindrome(reconstructed_strand)\n",
    "        gc_content_score = check_gc_content(reconstructed_strand)\n",
    "        \n",
    "        # Combine the scores from all strands for an overall evaluation of the domain\n",
    "        scores = [lcs_value, stability, secondary_structures, cross_hybridization, palindrome_score, gc_content_score]\n",
    "        total_scores = [sum(x) for x in zip(total_scores, scores)]\n",
    "\n",
    "    # Average the scores over all strands\n",
    "    average_scores = [score / len(strand_ids) for score in total_scores]\n",
    "    return tuple(average_scores)\n"
   ]
  },
  {
   "cell_type": "code",
   "execution_count": 63,
   "metadata": {},
   "outputs": [],
   "source": [
    "def variable_length_crossover(parent1, parent2):\n",
    "        if len(parent1) < len(parent2):\n",
    "            shorter, longer = parent1, parent2\n",
    "        else:\n",
    "            shorter, longer = parent2, parent1\n",
    "        \n",
    "        crossover_point = random.randint(0, len(shorter) - 1)\n",
    "        offspring1_data = longer[:len(longer) - len(shorter) + crossover_point] + shorter[crossover_point:]\n",
    "        offspring2_data = shorter[:crossover_point] + longer[len(longer) - len(shorter) + crossover_point:len(longer) - len(shorter) + len(shorter)]\n",
    "        \n",
    "        offspring1 = creator.Individual(offspring1_data)\n",
    "        offspring2 = creator.Individual(offspring2_data)\n",
    "        \n",
    "        if len(offspring1) == len(parent1):\n",
    "            offspring1.id = parent1.id\n",
    "            offspring2.id = parent2.id\n",
    "        else:\n",
    "            offspring1.id = parent2.id\n",
    "            offspring2.id = parent1.id\n",
    "        \n",
    "        return offspring1, offspring2"
   ]
  },
  {
   "cell_type": "code",
   "execution_count": 64,
   "metadata": {},
   "outputs": [],
   "source": [
    "def mutate_sequence(individual):\n",
    "        mutation_point = random.randint(0, len(individual) - 1)\n",
    "        available_bases = set([\"A\", \"T\", \"C\", \"G\"]) - {individual[mutation_point]}\n",
    "        individual[mutation_point] = random.choice(list(available_bases))\n",
    "        return individual,"
   ]
  },
  {
   "cell_type": "code",
   "execution_count": 65,
   "metadata": {},
   "outputs": [],
   "source": [
    "toolbox.register(\"evaluate\", evaluate)\n",
    "toolbox.register(\"mate\", variable_length_crossover)\n",
    "toolbox.register(\"mutate\", mutate_sequence)\n",
    "toolbox.register(\"select\", tools.selNSGA2)\n",
    "avg_fitness_over_generations = []"
   ]
  },
  {
   "cell_type": "code",
   "execution_count": 66,
   "metadata": {},
   "outputs": [],
   "source": [
    "def run(generations):\n",
    "    # Define the initial population\n",
    "    population = [creator.Individual(list(sequence)) for domain_name, sequence in initial_population.items()]\n",
    "    for domain_name, individual in zip(initial_population.keys(), population):\n",
    "        individual.id = domain_name\n",
    "\n",
    "    # Extract all domains from the population that appear in strands\n",
    "    relevant_population = [individual for individual in population if domain_appearances[individual.id]]\n",
    "\n",
    "    # Evaluate the relevant population\n",
    "    fitnesses = list(map(toolbox.evaluate, relevant_population))\n",
    "    for ind, fit in zip(relevant_population, fitnesses):\n",
    "        ind.fitness.values = fit\n",
    "\n",
    "    # Run the genetic algorithm using the filtered population\n",
    "    for gen in range(generations):\n",
    "        offspring = toolbox.select(relevant_population, len(relevant_population))\n",
    "        offspring = list(map(toolbox.clone, offspring))\n",
    "\n",
    "        for child1, child2 in zip(offspring[::2], offspring[1::2]):\n",
    "            if random.random() < 0.7:\n",
    "                toolbox.mate(child1, child2)\n",
    "                del child1.fitness.values\n",
    "                del child2.fitness.values\n",
    "\n",
    "        for mutant in offspring:\n",
    "            if random.random() < 0.2:\n",
    "                toolbox.mutate(mutant)\n",
    "                del mutant.fitness.values\n",
    "\n",
    "        fitnesses = list(map(toolbox.evaluate, offspring))\n",
    "        for ind, fit in zip(offspring, fitnesses):\n",
    "            ind.fitness.values = fit\n",
    "        avg_fitness = sum(ind.fitness.values[0] for ind in relevant_population) / len(relevant_population)\n",
    "        avg_fitness_over_generations.append(avg_fitness)\n",
    "        relevant_population[:] = offspring\n",
    "\n",
    "    for individual in relevant_population:\n",
    "        initial_population[individual.id] = ''.join(individual)\n",
    "        print(individual.id, \" = \", individual)\n",
    "\n",
    "    # Reconstruct the final strands\n",
    "    final_strands = []\n",
    "    for strand_structure in strand_structures:\n",
    "        strand = ''.join([initial_population[dom_name] for dom_name in strand_structure.split()])\n",
    "        final_strands.append(strand)\n",
    "\n",
    "    # Extract the evolved domain sequences\n",
    "    evolved_domain_sequences = [{\"name\": domain_name, \"sequence\": sequence} for domain_name, sequence in initial_population.items()]\n",
    "\n",
    "    return final_strands, evolved_domain_sequences\n"
   ]
  },
  {
   "cell_type": "code",
   "execution_count": 67,
   "metadata": {},
   "outputs": [],
   "source": [
    "def plot_fitness_over_generations():\n",
    "    generations = list(range(len(avg_fitness_over_generations)))\n",
    "    \n",
    "    # Plotting the data\n",
    "    plt.plot(generations, avg_fitness_over_generations)\n",
    "    \n",
    "    # Setting the x and y axis labels and title\n",
    "    plt.xlabel('Generation')\n",
    "    plt.ylabel('Average Fitness')\n",
    "    plt.title('Fitness Evolution Over Generations')\n",
    "    \n",
    "    # Setting the x and y axis limits\n",
    "    plt.xlim([0, len(generations)])\n",
    "    plt.ylim([min(avg_fitness_over_generations) - 1, max(avg_fitness_over_generations) + 1])  # added a buffer of 1 for clarity\n",
    "    \n",
    "    # Adjusting the tick intervals (if needed)\n",
    "    # plt.xticks(np.arange(0, len(generations), step=10))\n",
    "    # plt.yticks(np.arange(min(avg_fitness_over_generations), max(avg_fitness_over_generations) + 1, step=0.5))\n",
    "    \n",
    "    plt.show()\n"
   ]
  },
  {
   "cell_type": "code",
   "execution_count": 68,
   "metadata": {},
   "outputs": [
    {
     "name": "stdout",
     "output_type": "stream",
     "text": [
      "D1  =  ['T', 'T', 'C', 'C']\n",
      "D2  =  ['T', 'T', 'T', 'C']\n",
      "D3  =  ['T', 'T', 'T', 'T']\n"
     ]
    },
    {
     "data": {
      "image/png": "[encoded data removed]",
      "text/plain": [
       "<Figure size 640x480 with 1 Axes>"
      ]
     },
     "metadata": {},
     "output_type": "display_data"
    }
   ],
   "source": [
    "\n",
    "# Creating the NSGA object\n",
    "generations = 6\n",
    "run(generations)\n",
    "plot_fitness_over_generations()\n",
    "\n"
   ]
  }
 ],
 "metadata": {
  "kernelspec": {
   "display_name": "Python 3",
   "language": "python",
   "name": "python3"
  },
  "language_info": {
   "codemirror_mode": {
    "name": "ipython",
    "version": 3
   },
   "file_extension": ".py",
   "mimetype": "text/x-python",
   "name": "python",
   "nbconvert_exporter": "python",
   "pygments_lexer": "ipython3",
   "version": "3.9.1"
  },
  "orig_nbformat": 4
 },
 "nbformat": 4,
 "nbformat_minor": 2
}
